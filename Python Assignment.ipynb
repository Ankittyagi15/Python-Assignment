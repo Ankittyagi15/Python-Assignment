{
 "cells": [
  {
   "cell_type": "markdown",
   "id": "7c07a3e1-30b1-4c01-bf14-71f72994f951",
   "metadata": {},
   "source": [
    "Ankit Tyagi\n",
    "Roll no.=2315000314"
   ]
  },
  {
   "cell_type": "code",
   "execution_count": 65,
   "id": "5adea69a-f7a7-4732-94a7-bcdd1ca83a31",
   "metadata": {},
   "outputs": [
    {
     "name": "stdin",
     "output_type": "stream",
     "text": [
      "Enter numbers separated by spaces:  10 3 4 5 6\n"
     ]
    },
    {
     "name": "stdout",
     "output_type": "stream",
     "text": [
      "Second largest number is: 6\n"
     ]
    }
   ],
   "source": [
    "#Q1\n",
    "lst = list(map(int, input(\"Enter numbers separated by spaces: \").split()))\n",
    "\n",
    "first = second = float('-inf')\n",
    "\n",
    "for num in lst:\n",
    "    if num > first:\n",
    "        second = first\n",
    "        first = num\n",
    "    elif first > num > second:\n",
    "        second = num\n",
    "\n",
    "print(\"Second largest number is:\", second)"
   ]
  },
  {
   "cell_type": "code",
   "execution_count": 68,
   "id": "39ecd99d-4ebf-40ff-bddd-ac04245ae8c9",
   "metadata": {},
   "outputs": [
    {
     "name": "stdin",
     "output_type": "stream",
     "text": [
      "Enter numbers separated by spaces:  10 3 5 6 7\n"
     ]
    },
    {
     "name": "stdout",
     "output_type": "stream",
     "text": [
      "Sorted list without duplicates: [3, 5, 6, 7, 10]\n"
     ]
    }
   ],
   "source": [
    "#Q2\n",
    "lst = list(map(int, input(\"Enter numbers separated by spaces: \").split()))\n",
    "\n",
    "unique = []\n",
    "for num in lst:\n",
    "    if num not in unique:\n",
    "        unique.append(num)\n",
    "\n",
    "unique.sort()\n",
    "print(\"Sorted list without duplicates:\", unique)"
   ]
  },
  {
   "cell_type": "code",
   "execution_count": 5,
   "id": "3c57cecf-5f0b-41de-8e0c-c5fe969b5253",
   "metadata": {},
   "outputs": [
    {
     "name": "stdin",
     "output_type": "stream",
     "text": [
      "Enter numbers separated by spaces:  10 4 5 6 6\n"
     ]
    },
    {
     "name": "stdout",
     "output_type": "stream",
     "text": [
      "Sum: 31.0\n",
      "Average: 6.2\n"
     ]
    }
   ],
   "source": [
    "#Q3\n",
    "import math\n",
    "\n",
    "lst = list(map(float, input(\"Enter numbers separated by spaces: \").split()))\n",
    "\n",
    "total = math.fsum(lst)\n",
    "average = total / len(lst)\n",
    "\n",
    "print(\"Sum:\", total)\n",
    "print(\"Average:\", average)\n",
    "\n"
   ]
  },
  {
   "cell_type": "code",
   "execution_count": 70,
   "id": "c37711db-4ff0-44ee-839c-21f51c19d00e",
   "metadata": {},
   "outputs": [
    {
     "name": "stdin",
     "output_type": "stream",
     "text": [
      "Enter a number:  6\n"
     ]
    },
    {
     "name": "stdout",
     "output_type": "stream",
     "text": [
      "6 is not a prime number\n"
     ]
    }
   ],
   "source": [
    "#Q4\n",
    "n = int(input(\"Enter a number: \"))\n",
    "\n",
    "if n < 2:\n",
    "    print(n, \"is not a prime number\")\n",
    "else:\n",
    "    is_prime = True\n",
    "    for i in range(2, n):\n",
    "        if n % i == 0:\n",
    "            is_prime = False\n",
    "            break\n",
    "    if is_prime:\n",
    "        print(n, \"is a prime number\")\n",
    "    else:\n",
    "        print(n, \"is not a prime number\")\n"
   ]
  },
  {
   "cell_type": "code",
   "execution_count": 71,
   "id": "a8f156cc-f5ed-46db-b969-2b529b2ca6bf",
   "metadata": {},
   "outputs": [
    {
     "name": "stdin",
     "output_type": "stream",
     "text": [
      "Enter a string:  okayyyy\n"
     ]
    },
    {
     "name": "stdout",
     "output_type": "stream",
     "text": [
      "Vowels: 2\n",
      "Consonants: 5\n",
      "Digits: 0\n",
      "Special characters: 0\n"
     ]
    }
   ],
   "source": [
    "#Q5\n",
    "s = input(\"Enter a string: \")\n",
    "\n",
    "vowels = 'aeiouAEIOU'\n",
    "v = c = d = sc = 0\n",
    "\n",
    "for ch in s:\n",
    "    if ch.isdigit():\n",
    "        d += 1\n",
    "    elif ch.isalpha():\n",
    "        if ch in vowels:\n",
    "            v += 1\n",
    "        else:\n",
    "            c += 1\n",
    "    else:\n",
    "        sc += 1\n",
    "\n",
    "print(\"Vowels:\", v)\n",
    "print(\"Consonants:\", c)\n",
    "print(\"Digits:\", d)\n",
    "print(\"Special characters:\", sc)\n"
   ]
  },
  {
   "cell_type": "code",
   "execution_count": 8,
   "id": "fa03d4c8-051a-459b-929a-9cf8a900cbe8",
   "metadata": {},
   "outputs": [
    {
     "name": "stdout",
     "output_type": "stream",
     "text": [
      "2\n",
      "4\n",
      "6\n",
      "8\n",
      "10\n",
      "12\n",
      "14\n",
      "16\n",
      "18\n",
      "20\n",
      "22\n",
      "24\n",
      "26\n",
      "28\n",
      "30\n",
      "32\n",
      "34\n",
      "36\n",
      "38\n",
      "40\n",
      "42\n",
      "44\n",
      "46\n",
      "48\n",
      "50\n",
      "52\n",
      "54\n",
      "56\n",
      "58\n",
      "60\n",
      "62\n",
      "64\n",
      "66\n",
      "68\n",
      "70\n",
      "72\n",
      "74\n",
      "76\n",
      "78\n",
      "80\n",
      "82\n",
      "84\n",
      "86\n",
      "88\n",
      "90\n",
      "92\n",
      "94\n",
      "96\n",
      "98\n",
      "100\n"
     ]
    }
   ],
   "source": [
    "#Q6\n",
    "for i in range(2, 101, 2):\n",
    "    print(i)"
   ]
  },
  {
   "cell_type": "code",
   "execution_count": 72,
   "id": "258e9806-7887-49ce-a33e-29888b733d71",
   "metadata": {},
   "outputs": [
    {
     "name": "stdin",
     "output_type": "stream",
     "text": [
      "Enter a number:  5\n"
     ]
    },
    {
     "name": "stdout",
     "output_type": "stream",
     "text": [
      "Multiplication table of 5:\n",
      "5 x 1 = 5\n",
      "5 x 2 = 10\n",
      "5 x 3 = 15\n",
      "5 x 4 = 20\n",
      "5 x 5 = 25\n",
      "5 x 6 = 30\n",
      "5 x 7 = 35\n",
      "5 x 8 = 40\n",
      "5 x 9 = 45\n",
      "5 x 10 = 50\n"
     ]
    }
   ],
   "source": [
    "#Q7\n",
    "n = int(input(\"Enter a number: \"))\n",
    "\n",
    "print(f\"Multiplication table of {n}:\")\n",
    "for i in range(1, 11):\n",
    "    print(f\"{n} x {i} = {n * i}\")\n"
   ]
  },
  {
   "cell_type": "code",
   "execution_count": 75,
   "id": "453bc087-cc49-47bf-8b9d-6983d363e1b6",
   "metadata": {},
   "outputs": [
    {
     "name": "stdout",
     "output_type": "stream",
     "text": [
      "Numbers divisible by both 3 and 5 from 1 to 100:\n",
      "[15, 30, 45, 60, 75, 90]\n"
     ]
    }
   ],
   "source": [
    "#Q8\n",
    "result = []\n",
    "\n",
    "for i in range(1, 101):\n",
    "    if i % 3 == 0 and i % 5 == 0:\n",
    "        result.append(i)\n",
    "\n",
    "print(\"Numbers divisible by both 3 and 5 from 1 to 100:\")\n",
    "print(result)\n"
   ]
  },
  {
   "cell_type": "code",
   "execution_count": 78,
   "id": "99a3a350-cbd7-4b08-9ad0-d903bfa1eb68",
   "metadata": {},
   "outputs": [
    {
     "name": "stdin",
     "output_type": "stream",
     "text": [
      "Enter a number:  98\n"
     ]
    },
    {
     "name": "stdout",
     "output_type": "stream",
     "text": [
      "Reversed number: 89\n"
     ]
    }
   ],
   "source": [
    "#Q9\n",
    "n = int(input(\"Enter a number: \"))\n",
    "reverse = int(str(n)[::-1])\n",
    "print(\"Reversed number:\", reverse)\n"
   ]
  },
  {
   "cell_type": "code",
   "execution_count": 82,
   "id": "eb379b79-dd5d-41c1-ad67-d9ee3c3641fe",
   "metadata": {},
   "outputs": [
    {
     "name": "stdin",
     "output_type": "stream",
     "text": [
      "Enter a string:  Or bhaii kyaa kar rha\n"
     ]
    },
    {
     "name": "stdout",
     "output_type": "stream",
     "text": [
      "Character frequencies:\n",
      "{'O': 1, 'r': 3, ' ': 4, 'b': 1, 'h': 2, 'a': 5, 'i': 2, 'k': 2, 'y': 1}\n"
     ]
    }
   ],
   "source": [
    "#Q10\n",
    "s = input(\"Enter a string: \")\n",
    "\n",
    "frequency = {}\n",
    "\n",
    "for char in s:\n",
    "    if char in frequency:\n",
    "        frequency[char] += 1\n",
    "    else:\n",
    "        frequency[char] = 1\n",
    "\n",
    "print(\"Character frequencies:\")\n",
    "print(frequency)\n"
   ]
  },
  {
   "cell_type": "code",
   "execution_count": 85,
   "id": "bd6f6f2f-5690-43a7-a17d-b36cdb36b6c9",
   "metadata": {},
   "outputs": [
    {
     "name": "stdin",
     "output_type": "stream",
     "text": [
      "Enter how many prime numbers to generate:  15\n"
     ]
    },
    {
     "name": "stdout",
     "output_type": "stream",
     "text": [
      "First 15 prime numbers:\n",
      "[2, 3, 5, 7, 11, 13, 17, 19, 23, 29, 31, 37, 41, 43, 47]\n"
     ]
    }
   ],
   "source": [
    "#Q11\n",
    "n = int(input(\"Enter how many prime numbers to generate: \"))\n",
    "\n",
    "primes = []\n",
    "num = 2\n",
    "\n",
    "while len(primes) < n:\n",
    "    is_prime = True\n",
    "    for i in range(2, int(num ** 0.5) + 1):\n",
    "        if num % i == 0:\n",
    "            is_prime = False\n",
    "            break\n",
    "    if is_prime:\n",
    "        primes.append(num)\n",
    "    num += 1\n",
    "\n",
    "print(\"First\", n, \"prime numbers:\")\n",
    "print(primes)\n"
   ]
  },
  {
   "cell_type": "code",
   "execution_count": 88,
   "id": "0bd66006-e704-4ccd-9a4c-377b0d3faf46",
   "metadata": {},
   "outputs": [
    {
     "name": "stdin",
     "output_type": "stream",
     "text": [
      "Enter a number:  234\n"
     ]
    },
    {
     "name": "stdout",
     "output_type": "stream",
     "text": [
      "234 is not a palindrome number\n"
     ]
    }
   ],
   "source": [
    "#Q12\n",
    "n = int(input(\"Enter a number: \"))\n",
    "\n",
    "if str(n) == str(n)[::-1]:\n",
    "    print(n, \"is a palindrome number\")\n",
    "else:\n",
    "    print(n, \"is not a palindrome number\")\n"
   ]
  },
  {
   "cell_type": "code",
   "execution_count": 90,
   "id": "e4aaee14-8757-4d6c-b771-a9e1f5e540b9",
   "metadata": {},
   "outputs": [
    {
     "name": "stdin",
     "output_type": "stream",
     "text": [
      "Enter list elements separated by spaces:  10 2 3 4 5 6 6 5 4 3 2 1 2 4 4\n",
      "Enter the element to count:  4\n"
     ]
    },
    {
     "name": "stdout",
     "output_type": "stream",
     "text": [
      "The element 4 appears 4 time(s) in the list.\n"
     ]
    }
   ],
   "source": [
    "#Q13\n",
    "lst = list(map(int, input(\"Enter list elements separated by spaces: \").split()))\n",
    "target = int(input(\"Enter the element to count: \"))\n",
    "\n",
    "count = lst.count(target)\n",
    "\n",
    "print(f\"The element {target} appears {count} time(s) in the list.\")\n"
   ]
  },
  {
   "cell_type": "code",
   "execution_count": 16,
   "id": "656ad12b-a2da-46fe-9425-07180865ff87",
   "metadata": {},
   "outputs": [
    {
     "name": "stdout",
     "output_type": "stream",
     "text": [
      "Squares of even numbers from 1 to 50:\n",
      "[4, 16, 36, 64, 100, 144, 196, 256, 324, 400, 484, 576, 676, 784, 900, 1024, 1156, 1296, 1444, 1600, 1764, 1936, 2116, 2304, 2500]\n"
     ]
    }
   ],
   "source": [
    "#Q14\n",
    "squares = []\n",
    "\n",
    "for i in range(1, 51):\n",
    "    if i % 2 == 0:\n",
    "        squares.append(i ** 2)\n",
    "\n",
    "print(\"Squares of even numbers from 1 to 50:\")\n",
    "print(squares)\n"
   ]
  },
  {
   "cell_type": "code",
   "execution_count": 18,
   "id": "21a55d1b-b8f9-49a9-ad92-3ed866a210c2",
   "metadata": {},
   "outputs": [
    {
     "name": "stdin",
     "output_type": "stream",
     "text": [
      "Enter list elements separated by spaces:  10 7 8 9 7 5 4\n"
     ]
    },
    {
     "name": "stdout",
     "output_type": "stream",
     "text": [
      "List with unique elements :\n",
      "[10, 7, 8, 9, 5, 4]\n"
     ]
    }
   ],
   "source": [
    "#Q15\n",
    "lst = list(map(int, input(\"Enter list elements separated by spaces: \").split()))\n",
    "\n",
    "unique = []\n",
    "seen = set()\n",
    "\n",
    "for item in lst:\n",
    "    if item not in seen:\n",
    "        unique.append(item)\n",
    "        seen.add(item)\n",
    "\n",
    "print(\"List with unique elements :\")\n",
    "print(unique)\n"
   ]
  },
  {
   "cell_type": "code",
   "execution_count": 91,
   "id": "60b47445-5c60-47c1-8ca8-5d71a7d1f23a",
   "metadata": {},
   "outputs": [
    {
     "name": "stdin",
     "output_type": "stream",
     "text": [
      "Enter a number:  15\n"
     ]
    },
    {
     "name": "stdout",
     "output_type": "stream",
     "text": [
      "15 is Odd\n"
     ]
    }
   ],
   "source": [
    "#Q16\n",
    "def check_even_odd(n):\n",
    "    if n % 2 == 0:\n",
    "        return \"Even\"\n",
    "    else:\n",
    "        return \"Odd\"\n",
    "\n",
    "\n",
    "num = int(input(\"Enter a number: \"))\n",
    "print(f\"{num} is\", check_even_odd(num))\n"
   ]
  },
  {
   "cell_type": "code",
   "execution_count": 21,
   "id": "bc1f613a-8c7e-42d0-b51c-8db4784b72e8",
   "metadata": {},
   "outputs": [
    {
     "name": "stdin",
     "output_type": "stream",
     "text": [
      "Enter numbers separated by spaces:  10 5 6 8 6 5\n"
     ]
    },
    {
     "name": "stdout",
     "output_type": "stream",
     "text": [
      "Cumulative sum: [10, 15, 21, 29, 35, 40]\n"
     ]
    }
   ],
   "source": [
    "# Q17\n",
    "def cumulative_sum(lst):\n",
    "    result = []\n",
    "    total = 0\n",
    "    for num in lst:\n",
    "        total += num\n",
    "        result.append(total)\n",
    "    return result\n",
    "\n",
    "\n",
    "numbers = list(map(int, input(\"Enter numbers separated by spaces: \").split()))\n",
    "print(\"Cumulative sum:\", cumulative_sum(numbers))\n"
   ]
  },
  {
   "cell_type": "code",
   "execution_count": 23,
   "id": "e1d8416e-81d7-4eb6-8969-8a538c27ff76",
   "metadata": {},
   "outputs": [
    {
     "name": "stdin",
     "output_type": "stream",
     "text": [
      "Enter a number:  2\n"
     ]
    },
    {
     "name": "stdout",
     "output_type": "stream",
     "text": [
      "Factorial of 2 is 2\n"
     ]
    }
   ],
   "source": [
    "#Q18\n",
    "def factorial(n):\n",
    "    if n == 0 or n == 1:\n",
    "        return 1\n",
    "    else:\n",
    "        return n * factorial(n - 1)\n",
    "\n",
    "\n",
    "num = int(input(\"Enter a number: \"))\n",
    "print(f\"Factorial of {num} is\", factorial(num))\n"
   ]
  },
  {
   "cell_type": "code",
   "execution_count": 25,
   "id": "765a7fed-3647-4251-aaef-9c0e5ccc2e0e",
   "metadata": {},
   "outputs": [
    {
     "name": "stdin",
     "output_type": "stream",
     "text": [
      "Enter the number of terms:  5\n"
     ]
    },
    {
     "name": "stdout",
     "output_type": "stream",
     "text": [
      "Fibonacci series:\n",
      "0 1 1 2 3 "
     ]
    }
   ],
   "source": [
    "#Q19\n",
    "def print_fibonacci(n):\n",
    "    a, b = 0, 1\n",
    "    for _ in range(n):\n",
    "        print(a, end=' ')\n",
    "        a, b = b, a + b\n",
    "\n",
    "terms = int(input(\"Enter the number of terms: \"))\n",
    "print(\"Fibonacci series:\")\n",
    "print_fibonacci(terms)\n"
   ]
  },
  {
   "cell_type": "code",
   "execution_count": 92,
   "id": "2896af6e-40e8-4ae4-bdb0-b34417468f3d",
   "metadata": {},
   "outputs": [
    {
     "name": "stdin",
     "output_type": "stream",
     "text": [
      "Enter a string:  madam\n"
     ]
    },
    {
     "name": "stdout",
     "output_type": "stream",
     "text": [
      "\"madam\" is a palindrome.\n"
     ]
    }
   ],
   "source": [
    "#Q20\n",
    "def is_palindrome(s):\n",
    "    return s == s[::-1]\n",
    "\n",
    "\n",
    "text = input(\"Enter a string: \")\n",
    "if is_palindrome(text):\n",
    "    print(f'\"{text}\" is a palindrome.')\n",
    "else:\n",
    "    print(f'\"{text}\" is not a palindrome.')\n"
   ]
  },
  {
   "cell_type": "code",
   "execution_count": 27,
   "id": "eff8c7e4-1de3-4ac7-98b7-9bbd64c5ab71",
   "metadata": {},
   "outputs": [
    {
     "name": "stdin",
     "output_type": "stream",
     "text": [
      "Enter numbers separated by spaces:  10 34 56 78 54\n"
     ]
    },
    {
     "name": "stdout",
     "output_type": "stream",
     "text": [
      "Maximum: 78\n",
      "Minimum: 10\n"
     ]
    }
   ],
   "source": [
    "#21\n",
    "def find_max_min(lst):\n",
    "    return max(lst), min(lst)\n",
    "\n",
    "\n",
    "numbers = list(map(int, input(\"Enter numbers separated by spaces: \").split()))\n",
    "maximum, minimum = find_max_min(numbers)\n",
    "print(\"Maximum:\", maximum)\n",
    "print(\"Minimum:\", minimum)\n"
   ]
  },
  {
   "cell_type": "code",
   "execution_count": 94,
   "id": "cf99773c-21b8-48ec-b72c-81b8128ea86b",
   "metadata": {},
   "outputs": [
    {
     "name": "stdin",
     "output_type": "stream",
     "text": [
      "Enter a string:  challlllll\n"
     ]
    },
    {
     "name": "stdout",
     "output_type": "stream",
     "text": [
      "The string is not a pangram.\n"
     ]
    }
   ],
   "source": [
    "#Q22\n",
    "import string\n",
    "\n",
    "def is_pangram(s):\n",
    "    alphabet = set(string.ascii_lowercase)\n",
    "    return alphabet.issubset(set(s.lower()))\n",
    "\n",
    "\n",
    "text = input(\"Enter a string: \")\n",
    "if is_pangram(text):\n",
    "    print(\"The string is a pangram.\")\n",
    "else:\n",
    "    print(\"The string is not a pangram.\")\n"
   ]
  },
  {
   "cell_type": "code",
   "execution_count": 96,
   "id": "a67f50b3-6712-4b52-8f65-e0b9adaceef4",
   "metadata": {},
   "outputs": [
    {
     "name": "stdin",
     "output_type": "stream",
     "text": [
      "Enter start of range:  3\n",
      "Enter end of range:  9\n"
     ]
    },
    {
     "name": "stdout",
     "output_type": "stream",
     "text": [
      "Prime numbers in the range: [3, 5, 7]\n"
     ]
    }
   ],
   "source": [
    "#Q23\n",
    "def find_primes(start, end):\n",
    "    primes = []\n",
    "    for num in range(start, end + 1):\n",
    "        if num < 2:\n",
    "            continue\n",
    "        is_prime = True\n",
    "        for i in range(2, int(num ** 0.5) + 1):\n",
    "            if num % i == 0:\n",
    "                is_prime = False\n",
    "                break\n",
    "        if is_prime:\n",
    "            primes.append(num)\n",
    "    return primes\n",
    "\n",
    "start = int(input(\"Enter start of range: \"))\n",
    "end = int(input(\"Enter end of range: \"))\n",
    "prime_list = find_primes(start, end)\n",
    "print(\"Prime numbers in the range:\", prime_list)\n"
   ]
  },
  {
   "cell_type": "code",
   "execution_count": 30,
   "id": "3ae07f58-2a5c-4e9d-8e40-2059a2b4b5f6",
   "metadata": {},
   "outputs": [
    {
     "name": "stdin",
     "output_type": "stream",
     "text": [
      "Enter a string:  helloooo\n"
     ]
    },
    {
     "name": "stdout",
     "output_type": "stream",
     "text": [
      "Uppercase letters: 0\n",
      "Lowercase letters: 8\n"
     ]
    }
   ],
   "source": [
    "#Q24\n",
    "def count_case(s):\n",
    "    upper = lower = 0\n",
    "    for ch in s:\n",
    "        if ch.isupper():\n",
    "            upper += 1\n",
    "        elif ch.islower():\n",
    "            lower += 1\n",
    "    return upper, lower\n",
    "\n",
    "text = input(\"Enter a string: \")\n",
    "upper_count, lower_count = count_case(text)\n",
    "print(\"Uppercase letters:\", upper_count)\n",
    "print(\"Lowercase letters:\", lower_count)\n"
   ]
  },
  {
   "cell_type": "code",
   "execution_count": 98,
   "id": "e4784e35-f753-446e-93c8-0537c7ff0ac1",
   "metadata": {},
   "outputs": [
    {
     "name": "stdin",
     "output_type": "stream",
     "text": [
      "Enter a number:  56\n"
     ]
    },
    {
     "name": "stdout",
     "output_type": "stream",
     "text": [
      "Sum of digits: 11\n"
     ]
    }
   ],
   "source": [
    "#Q25\n",
    "def sum_of_digits(n):\n",
    "    return sum(int(digit) for digit in str(abs(n)))\n",
    "\n",
    "num = int(input(\"Enter a number: \"))\n",
    "print(\"Sum of digits:\", sum_of_digits(num))\n"
   ]
  },
  {
   "cell_type": "code",
   "execution_count": 32,
   "id": "8e9285fc-cc63-4c35-9fb1-5700e3619830",
   "metadata": {},
   "outputs": [
    {
     "name": "stdin",
     "output_type": "stream",
     "text": [
      "Enter a sentence:  mera naam hai ankit\n"
     ]
    },
    {
     "name": "stdout",
     "output_type": "stream",
     "text": [
      "Number of words: 4\n"
     ]
    }
   ],
   "source": [
    "#Q26\n",
    "def count_words(sentence):\n",
    "    words = sentence.split()\n",
    "    return len(words)\n",
    "\n",
    "text = input(\"Enter a sentence: \")\n",
    "print(\"Number of words:\", count_words(text))\n"
   ]
  },
  {
   "cell_type": "code",
   "execution_count": 34,
   "id": "f2125a3c-de76-45b2-8e0f-000cf9a9b0f1",
   "metadata": {},
   "outputs": [
    {
     "name": "stdin",
     "output_type": "stream",
     "text": [
      "Enter a string:  okay,sjisl.\n"
     ]
    },
    {
     "name": "stdout",
     "output_type": "stream",
     "text": [
      "String without punctuation: okaysjisl\n"
     ]
    }
   ],
   "source": [
    "#Q27\n",
    "import string\n",
    "\n",
    "def remove_punctuation(text):\n",
    "    return ''.join(char for char in text if char not in string.punctuation)\n",
    "\n",
    "s = input(\"Enter a string: \")\n",
    "cleaned = remove_punctuation(s)\n",
    "print(\"String without punctuation:\", cleaned)\n"
   ]
  },
  {
   "cell_type": "code",
   "execution_count": 101,
   "id": "3d75ff75-7ae1-4f68-89ff-88de0658b5af",
   "metadata": {},
   "outputs": [
    {
     "name": "stdin",
     "output_type": "stream",
     "text": [
      "Enter first number:  3\n",
      "Enter second number:  4\n"
     ]
    },
    {
     "name": "stdout",
     "output_type": "stream",
     "text": [
      "GCD: 1\n"
     ]
    }
   ],
   "source": [
    "###### Q28\n",
    "def find_gcd(a, b):\n",
    "    while b != 0:\n",
    "        a, b = b, a % b\n",
    "    return a\n",
    "\n",
    "\n",
    "num1 = int(input(\"Enter first number: \"))\n",
    "num2 = int(input(\"Enter second number: \"))\n",
    "print(\"GCD:\", find_gcd(num1, num2))\n",
    "\n"
   ]
  },
  {
   "cell_type": "code",
   "execution_count": 37,
   "id": "2c27ad4c-3b12-4278-a1cb-d275208c41a1",
   "metadata": {},
   "outputs": [
    {
     "name": "stdin",
     "output_type": "stream",
     "text": [
      "Enter list elements separated by spaces:  2 3 4 5 6 65 4 3\n"
     ]
    },
    {
     "name": "stdout",
     "output_type": "stream",
     "text": [
      "Duplicate elements: [3, 4]\n"
     ]
    }
   ],
   "source": [
    "#Q29\n",
    "from collections import Counter\n",
    "\n",
    "def find_duplicates(lst):\n",
    "    counts = Counter(lst)\n",
    "    return [item for item, count in counts.items() if count > 1]\n",
    "\n",
    "items = list(map(int, input(\"Enter list elements separated by spaces: \").split()))\n",
    "duplicates = find_duplicates(items)\n",
    "print(\"Duplicate elements:\", duplicates)\n"
   ]
  },
  {
   "cell_type": "code",
   "execution_count": 103,
   "id": "1f2ae080-2374-4602-a1fc-a3055230db67",
   "metadata": {
    "scrolled": true
   },
   "outputs": [
    {
     "name": "stdin",
     "output_type": "stream",
     "text": [
      "Enter first number:  5\n",
      "Enter second number:  6\n",
      "Enter third number:  7\n"
     ]
    },
    {
     "name": "stdout",
     "output_type": "stream",
     "text": [
      "The largest number is: 7\n"
     ]
    }
   ],
   "source": [
    "#Q30\n",
    "def largest_of_three(a, b, c):\n",
    "    return max(a, b, c)\n",
    "\n",
    "x = int(input(\"Enter first number: \"))\n",
    "y = int(input(\"Enter second number: \"))\n",
    "z = int(input(\"Enter third number: \"))\n",
    "print(\"The largest number is:\", largest_of_three(x, y, z))\n"
   ]
  },
  {
   "cell_type": "code",
   "execution_count": 40,
   "id": "20cd4968-5210-4a25-99de-dbebcb7b8651",
   "metadata": {},
   "outputs": [
    {
     "name": "stdin",
     "output_type": "stream",
     "text": [
      "Enter a sentence:  hn bhaii kya kar rha hai\n"
     ]
    },
    {
     "name": "stdout",
     "output_type": "stream",
     "text": [
      "Words in alphabetical order:\n",
      "bhaii hai hn kar kya rha\n"
     ]
    }
   ],
   "source": [
    "#Q31\n",
    "sentence = input(\"Enter a sentence: \")\n",
    "\n",
    "words = sentence.split()\n",
    "words.sort()\n",
    "\n",
    "print(\"Words in alphabetical order:\")\n",
    "print(' '.join(words))\n"
   ]
  },
  {
   "cell_type": "code",
   "execution_count": 43,
   "id": "0dcd65f8-7f0c-4c0c-88ea-7d2c75ff6f87",
   "metadata": {},
   "outputs": [
    {
     "name": "stdin",
     "output_type": "stream",
     "text": [
      "Enter first dictionary :  {4,5,6,7,8}\n",
      "Enter second dictionary :  {3,4,5,9,8}\n"
     ]
    },
    {
     "name": "stdout",
     "output_type": "stream",
     "text": [
      "Concatenated dictionary:\n",
      "{3, 4, 5, 6, 7, 8, 9}\n"
     ]
    }
   ],
   "source": [
    "#Q32\n",
    "dict1 = eval(input(\"Enter first dictionary : \"))\n",
    "dict2 = eval(input(\"Enter second dictionary : \"))\n",
    "\n",
    "merged_dict = dict1.copy()\n",
    "merged_dict.update(dict2)\n",
    "\n",
    "print(\"Concatenated dictionary:\")\n",
    "print(merged_dict)\n"
   ]
  },
  {
   "cell_type": "code",
   "execution_count": 106,
   "id": "078b621a-3174-4e64-b275-77427288a042",
   "metadata": {},
   "outputs": [
    {
     "name": "stdin",
     "output_type": "stream",
     "text": [
      "Enter a sentence:  hn bhaii karlii phyton\n"
     ]
    },
    {
     "name": "stdout",
     "output_type": "stream",
     "text": [
      "Vowel count in each word:\n",
      "hn: 0\n",
      "bhaii: 3\n",
      "karlii: 3\n",
      "phyton: 1\n"
     ]
    }
   ],
   "source": [
    "#Q33\n",
    "sentence = input(\"Enter a sentence: \")\n",
    "\n",
    "vowels = 'aeiouAEIOU'\n",
    "words = sentence.split()\n",
    "\n",
    "vowel_counts = {}\n",
    "\n",
    "for word in words:\n",
    "    count = sum(1 for char in word if char in vowels)\n",
    "    vowel_counts[word] = count\n",
    "\n",
    "print(\"Vowel count in each word:\")\n",
    "for word, count in vowel_counts.items():\n",
    "    print(f\"{word}: {count}\")\n"
   ]
  },
  {
   "cell_type": "code",
   "execution_count": 45,
   "id": "38b97128-80c8-466a-92fe-a19e41f33680",
   "metadata": {},
   "outputs": [
    {
     "name": "stdin",
     "output_type": "stream",
     "text": [
      "Enter tuple elements separated by commas:  2,3,4,5,6,7,8,9\n"
     ]
    },
    {
     "name": "stdout",
     "output_type": "stream",
     "text": [
      "Original tuple: (2, 3, 4, 5, 6, 7, 8, 9)\n",
      "Converted list: [2, 3, 4, 5, 6, 7, 8, 9]\n"
     ]
    }
   ],
   "source": [
    "#Q34\n",
    "user_input = input(\"Enter tuple elements separated by commas: \")\n",
    "t = eval(f\"({user_input})\")\n",
    "converted_list = list(t)\n",
    "print(\"Original tuple:\", t)\n",
    "print(\"Converted list:\", converted_list)\n"
   ]
  },
  {
   "cell_type": "code",
   "execution_count": 108,
   "id": "512b0e28-2434-4408-9e56-7cd9b034dfce",
   "metadata": {},
   "outputs": [
    {
     "name": "stdin",
     "output_type": "stream",
     "text": [
      "Enter a string:  chalooo bhaii chale\n"
     ]
    },
    {
     "name": "stdout",
     "output_type": "stream",
     "text": [
      "String without whitespace: chalooobhaiichale\n"
     ]
    }
   ],
   "source": [
    "#Q35\n",
    "def remove_whitespace(s):\n",
    "    return ''.join(s.split())\n",
    "\n",
    "text = input(\"Enter a string: \")\n",
    "print(\"String without whitespace:\", remove_whitespace(text))\n"
   ]
  },
  {
   "cell_type": "code",
   "execution_count": 49,
   "id": "2ef75767-cd72-487d-9a3a-1c5f8c7f090f",
   "metadata": {},
   "outputs": [
    {
     "name": "stdin",
     "output_type": "stream",
     "text": [
      "Enter keys separated by spaces:  d f v d s f\n",
      "Enter values separated by spaces:  j h n m o p\n"
     ]
    },
    {
     "name": "stdout",
     "output_type": "stream",
     "text": [
      "Merged dictionary: {'d': 'm', 'f': 'p', 'v': 'n', 's': 'o'}\n"
     ]
    }
   ],
   "source": [
    "#Q36\n",
    "keys = input(\"Enter keys separated by spaces: \").split()\n",
    "values = input(\"Enter values separated by spaces: \").split()\n",
    "merged_dict = dict(zip(keys, values))\n",
    "print(\"Merged dictionary:\", merged_dict)\n"
   ]
  },
  {
   "cell_type": "code",
   "execution_count": 52,
   "id": "e0edc24c-7ecc-46ae-83f6-5b9caada31b3",
   "metadata": {},
   "outputs": [
    {
     "name": "stdin",
     "output_type": "stream",
     "text": [
      "Enter a dictionary (e.g., {'a': 10, 'b': 20}):  {'a':10,'b':20}\n"
     ]
    },
    {
     "name": "stdout",
     "output_type": "stream",
     "text": [
      "Key with the maximum value: b\n"
     ]
    }
   ],
   "source": [
    "#Q37\n",
    "data = eval(input(\"Enter a dictionary : \"))\n",
    "max_key = max(data, key=data.get)\n",
    "print(\"Key with the maximum value:\", max_key)\n",
    "\n",
    "\n"
   ]
  },
  {
   "cell_type": "code",
   "execution_count": 110,
   "id": "0c1ff1dc-18ba-4e7d-81f1-684adbed3c5b",
   "metadata": {},
   "outputs": [
    {
     "name": "stdin",
     "output_type": "stream",
     "text": [
      "Enter a string:  hn bhaii kya chal rha bhaii\n"
     ]
    },
    {
     "name": "stdout",
     "output_type": "stream",
     "text": [
      "Word frequencies: {'hn': 1, 'bhaii': 2, 'kya': 1, 'chal': 1, 'rha': 1}\n"
     ]
    }
   ],
   "source": [
    "#Q38\n",
    "text = input(\"Enter a string: \")\n",
    "words = text.split()\n",
    "freq = {}\n",
    "\n",
    "for word in words:\n",
    "    freq[word] = freq.get(word, 0) + 1\n",
    "\n",
    "print(\"Word frequencies:\", freq)"
   ]
  },
  {
   "cell_type": "code",
   "execution_count": 111,
   "id": "edcf742c-7919-4cb1-ae10-8edb8d544320",
   "metadata": {},
   "outputs": [
    {
     "name": "stdin",
     "output_type": "stream",
     "text": [
      "Enter a dictionary :  {'name': 'Alice', 'age': 25}\n",
      "Enter the key to check:  age\n"
     ]
    },
    {
     "name": "stdout",
     "output_type": "stream",
     "text": [
      "Key exists in the dictionary.\n"
     ]
    }
   ],
   "source": [
    "#Q39\n",
    "d = eval(input(\"Enter a dictionary : \"))\n",
    "key = input(\"Enter the key to check: \")\n",
    "\n",
    "if key in d:\n",
    "    print(\"Key exists in the dictionary.\")\n",
    "else:\n",
    "    print(\"Key does not exist in the dictionary.\")\n"
   ]
  },
  {
   "cell_type": "code",
   "execution_count": 55,
   "id": "a951059a-2783-4f98-b4f1-156434b76ac9",
   "metadata": {},
   "outputs": [
    {
     "name": "stdin",
     "output_type": "stream",
     "text": [
      "Enter a string:  okayyy*jiii\n"
     ]
    },
    {
     "name": "stdout",
     "output_type": "stream",
     "text": [
      "String after replacing vowels: *k*yyy*j***\n"
     ]
    }
   ],
   "source": [
    "#Q40\n",
    "text = input(\"Enter a string: \")\n",
    "vowels = 'aeiouAEIOU'\n",
    "result = ''.join('*' if ch in vowels else ch for ch in text)\n",
    "print(\"String after replacing vowels:\", result)\n"
   ]
  },
  {
   "cell_type": "code",
   "execution_count": null,
   "id": "cdd9da62-7ed1-4f48-ae1a-5c4d09cc53bc",
   "metadata": {},
   "outputs": [],
   "source": [
    "#Q41\n",
    "file_name = input(\"Enter the file name: \")\n",
    "\n",
    "with open(file_name, 'r') as file:\n",
    "    content = file.read()\n",
    "\n",
    "print(\"File contents:\\n\", content)\n"
   ]
  },
  {
   "cell_type": "code",
   "execution_count": null,
   "id": "e1f6a223-e441-4307-84b0-3725481fb051",
   "metadata": {},
   "outputs": [],
   "source": [
    "#Q42\n",
    "file_name = input(\"Enter the file name: \")\n",
    "\n",
    "with open(file_name, 'r') as file:\n",
    "    content = file.read()\n",
    "    word_count = len(content.split())\n",
    "\n",
    "print(\"Number of words in the file:\", word_count)\n"
   ]
  },
  {
   "cell_type": "code",
   "execution_count": null,
   "id": "1e9613ee-6017-4e61-a8f7-68ad34eb339c",
   "metadata": {},
   "outputs": [],
   "source": [
    "#Q43\n",
    "source_file = input(\"Enter the source file name: \")\n",
    "destination_file = input(\"Enter the destination file name: \")\n",
    "\n",
    "with open(source_file, 'r') as src:\n",
    "    content = src.read()\n",
    "\n",
    "with open(destination_file, 'w') as dest:\n",
    "    dest.write(content)\n",
    "\n",
    "print(\"Contents copied successfully.\")\n"
   ]
  },
  {
   "cell_type": "code",
   "execution_count": null,
   "id": "d3bdbfdc-7d99-43d4-a596-f053b6ef0f72",
   "metadata": {},
   "outputs": [],
   "source": [
    "#Q44\n",
    "file_name = input(\"Enter the file name: \")\n",
    "\n",
    "with open(file_name, 'r') as file:\n",
    "    for line in file:\n",
    "        if len(line.strip()) > 50:\n",
    "            print(line.strip())\n"
   ]
  },
  {
   "cell_type": "code",
   "execution_count": null,
   "id": "53b61fd6-32e1-4938-9918-51289ed492cc",
   "metadata": {},
   "outputs": [],
   "source": [
    "#Q45\n",
    "file_name = input(\"Enter the file name to write to: \")\n",
    "strings = input(\"Enter strings separated by commas: \").split(',')\n",
    "\n",
    "with open(file_name, 'w') as file:\n",
    "    for line in strings:\n",
    "        file.write(line.strip() + '\\n')\n",
    "\n",
    "print(\"Strings written to file successfully.\")\n"
   ]
  },
  {
   "cell_type": "code",
   "execution_count": 113,
   "id": "e670aeda-eaff-4f6e-95b0-6e1eea646a32",
   "metadata": {},
   "outputs": [
    {
     "name": "stdin",
     "output_type": "stream",
     "text": [
      "Enter the first number:  2\n",
      "Enter the second number:  0\n"
     ]
    },
    {
     "name": "stdout",
     "output_type": "stream",
     "text": [
      "Error: Division by zero is not allowed.\n"
     ]
    }
   ],
   "source": [
    "#Q46\n",
    "a = float(input(\"Enter the first number: \"))\n",
    "b = float(input(\"Enter the second number: \"))\n",
    "\n",
    "try:\n",
    "    result = a / b\n",
    "    print(\"Result:\", result)\n",
    "except ZeroDivisionError:\n",
    "    print(\"Error: Division by zero is not allowed.\")\n"
   ]
  },
  {
   "cell_type": "code",
   "execution_count": 59,
   "id": "ff832d8a-1c98-48d4-9608-2ed038b6708e",
   "metadata": {},
   "outputs": [
    {
     "name": "stdin",
     "output_type": "stream",
     "text": [
      "Enter a number:  hello\n"
     ]
    },
    {
     "name": "stdout",
     "output_type": "stream",
     "text": [
      "Invalid input: Please enter a numeric value.\n"
     ]
    }
   ],
   "source": [
    "#Q47\n",
    "try:\n",
    "    num = float(input(\"Enter a number: \"))\n",
    "    print(\"You entered:\", num)\n",
    "except ValueError:\n",
    "    print(\"Invalid input: Please enter a numeric value.\")\n"
   ]
  },
  {
   "cell_type": "code",
   "execution_count": 115,
   "id": "2e75a0f7-dadc-4050-94de-f2d7dae49f58",
   "metadata": {},
   "outputs": [
    {
     "name": "stdin",
     "output_type": "stream",
     "text": [
      "Enter the file name:  ankit.txt\n"
     ]
    },
    {
     "name": "stdout",
     "output_type": "stream",
     "text": [
      "Error: File not found.\n"
     ]
    }
   ],
   "source": [
    "#Q48\n",
    "file_name = input(\"Enter the file name: \")\n",
    "\n",
    "try:\n",
    "    with open(file_name, 'r') as file:\n",
    "        content = file.read()\n",
    "        print(\"File contents:\\n\", content)\n",
    "except FileNotFoundError:\n",
    "    print(\"Error: File not found.\")\n"
   ]
  },
  {
   "cell_type": "code",
   "execution_count": 61,
   "id": "6bf7f6af-a7ba-48d8-ad38-9e19535235c5",
   "metadata": {},
   "outputs": [
    {
     "name": "stdin",
     "output_type": "stream",
     "text": [
      "Enter the index to access:  6\n"
     ]
    },
    {
     "name": "stdout",
     "output_type": "stream",
     "text": [
      "Error: Index out of range.\n"
     ]
    }
   ],
   "source": [
    "#Q49\n",
    "numbers = [10, 20, 30, 40, 50]\n",
    "index = int(input(\"Enter the index to access: \"))\n",
    "\n",
    "try:\n",
    "    print(\"Value at index\", index, \"is\", numbers[index])\n",
    "except IndexError:\n",
    "    print(\"Error: Index out of range.\")\n"
   ]
  },
  {
   "cell_type": "code",
   "execution_count": 118,
   "id": "1c7e5855-210c-4b86-ad4e-26fcdf30a19b",
   "metadata": {},
   "outputs": [
    {
     "name": "stdin",
     "output_type": "stream",
     "text": [
      "Enter a number:  7\n"
     ]
    },
    {
     "name": "stdout",
     "output_type": "stream",
     "text": [
      "Result: 1.4285714285714286\n",
      "This is the finally block. It always executes.\n"
     ]
    }
   ],
   "source": [
    "#Q50\n",
    "try:\n",
    "    x = int(input(\"Enter a number: \"))\n",
    "    result = 10 / x\n",
    "    print(\"Result:\", result)\n",
    "except ZeroDivisionError:\n",
    "    print(\"Error: Cannot divide by zero.\")\n",
    "finally:\n",
    "    print(\"This is the finally block. It always executes.\")\n"
   ]
  },
  {
   "cell_type": "code",
   "execution_count": null,
   "id": "f4bf2225-1172-4f46-8662-f605fb86845e",
   "metadata": {},
   "outputs": [],
   "source": []
  }
 ],
 "metadata": {
  "kernelspec": {
   "display_name": "Python [conda env:base] *",
   "language": "python",
   "name": "conda-base-py"
  },
  "language_info": {
   "codemirror_mode": {
    "name": "ipython",
    "version": 3
   },
   "file_extension": ".py",
   "mimetype": "text/x-python",
   "name": "python",
   "nbconvert_exporter": "python",
   "pygments_lexer": "ipython3",
   "version": "3.12.7"
  }
 },
 "nbformat": 4,
 "nbformat_minor": 5
}
